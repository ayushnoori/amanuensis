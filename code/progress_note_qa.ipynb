{
 "cells": [
  {
   "attachments": {},
   "cell_type": "markdown",
   "metadata": {},
   "source": [
    "# Progress Note Question and Answering\n",
    "\n",
    "*Ayush Noori*<br>\n",
    "*TreeHacks 2023*\n",
    "\n",
    "See the [OpenAI cookbook](https://github.com/openai/openai-cookbook)."
   ]
  },
  {
   "cell_type": "code",
   "execution_count": 2,
   "metadata": {},
   "outputs": [],
   "source": [
    "import numpy as np\n",
    "import openai\n",
    "import pandas as pd\n",
    "import pickle\n",
    "\n",
    "COMPLETIONS_MODEL = \"text-davinci-003\""
   ]
  },
  {
   "attachments": {},
   "cell_type": "markdown",
   "metadata": {},
   "source": [
    "Load API key from secrets file and set key."
   ]
  },
  {
   "cell_type": "code",
   "execution_count": 6,
   "metadata": {},
   "outputs": [],
   "source": [
    "api_key_file = open(\"secrets/openai_api_key.txt\", \"r\")\n",
    "API_KEY = api_key_file.read()\n",
    "api_key_file.close()\n",
    "openai.api_key = API_KEY"
   ]
  }
 ],
 "metadata": {
  "kernelspec": {
   "display_name": "neuroKG",
   "language": "python",
   "name": "python3"
  },
  "language_info": {
   "codemirror_mode": {
    "name": "ipython",
    "version": 3
   },
   "file_extension": ".py",
   "mimetype": "text/x-python",
   "name": "python",
   "nbconvert_exporter": "python",
   "pygments_lexer": "ipython3",
   "version": "3.10.9"
  },
  "orig_nbformat": 4,
  "vscode": {
   "interpreter": {
    "hash": "83533df3c7ef9bc16937d57d265360ebf731c985f77c1d2f73cdf68b21c1c5eb"
   }
  }
 },
 "nbformat": 4,
 "nbformat_minor": 2
}
