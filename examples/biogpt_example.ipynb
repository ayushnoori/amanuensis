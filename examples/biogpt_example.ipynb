{
 "cells": [
  {
   "attachments": {},
   "cell_type": "markdown",
   "metadata": {},
   "source": [
    "# BioGPT Example\n",
    "\n",
    "*Ayush Noori*<br>\n",
    "*TreeHacks 2023*"
   ]
  },
  {
   "attachments": {},
   "cell_type": "markdown",
   "metadata": {},
   "source": [
    "Load requisite libraries."
   ]
  },
  {
   "cell_type": "code",
   "execution_count": 3,
   "metadata": {},
   "outputs": [],
   "source": [
    "# standard imports\n",
    "import numpy as np\n",
    "import pandas as pd\n",
    "import os\n",
    "import time\n",
    "\n",
    "# matplotlib imports\n",
    "import matplotlib.pyplot as plt\n",
    "plt.ion()   # interactive mode\n",
    "\n",
    "# torch imports\n",
    "import torch\n",
    "\n",
    "# transformers imports\n",
    "from transformers import pipeline, set_seed\n",
    "from transformers import BioGptTokenizer, BioGptForCausalLM"
   ]
  },
  {
   "attachments": {},
   "cell_type": "markdown",
   "metadata": {},
   "source": [
    "Initialize the BioGPT model."
   ]
  },
  {
   "cell_type": "code",
   "execution_count": null,
   "metadata": {},
   "outputs": [],
   "source": [
    "model = BioGptForCausalLM.from_pretrained(\"microsoft/biogpt\")\n",
    "tokenizer = BioGptTokenizer.from_pretrained(\"microsoft/biogpt\")\n",
    "generator = pipeline('text-generation', model=model, tokenizer=tokenizer)\n",
    "set_seed(42)"
   ]
  },
  {
   "attachments": {},
   "cell_type": "markdown",
   "metadata": {},
   "source": [
    "Test on a sample string."
   ]
  },
  {
   "cell_type": "code",
   "execution_count": null,
   "metadata": {},
   "outputs": [],
   "source": [
    "# Given the following clinical text, generate five follow-up questions to ask the patient.\n",
    "# Modify the following clinical text to put brackets [ and ] around words related to Alzheimer's disease."
   ]
  },
  {
   "cell_type": "code",
   "execution_count": 23,
   "metadata": {},
   "outputs": [
    {
     "name": "stdout",
     "output_type": "stream",
     "text": [
      "\n",
      "Modify the following clinical text to put brackets [ and ] around words related to Alzheimer's disease.\n",
      "\n",
      "CLINICAL TEXT:\n",
      "\n",
      "Patient Name: John Doe\n",
      "Date of Visit: March 1, 2023\n",
      "Chief Complaint: Memory problems\n",
      "History of Present Illness:\n",
      "John Doe is a 65-year-old male who presents to the memory clinic with complaints of memory problems. He reports that he has been having difficulty remembering recent events, such as where he put his keys or what he had for breakfast. He also states that he has been having trouble concentrating and feels easily distracted.\n",
      "Past Medical History:\n",
      "John Doe has a history of hypertension, hyperlipidemia, and type 2 diabetes mellitus. He takes medications for these conditions, including lisinopril, atorvastatin, and metformin.\n",
      "Family History:\n",
      "John Doe's father had Alzheimer's disease.\n",
      "Social History:\n",
      "John Doe is retired and lives with his wife. He does not smoke or drink alcohol.\n",
      "Physical Examination:\n",
      "Vital signs are within normal limits. The patient appears alert and oriented to person, place, and time. The neurological examination is unremarkable.\n",
      "Assessment and Plan:\n",
      "Based on the patient's complaints and family history, we suspect that John Doe may have mild cognitive impairment or early-stage Alzheimer's disease. We plan to order further testing, including cognitive testing and brain imaging, to help confirm the diagnosis. We will also provide John Doe with education about the disease process, support for him and his family, and referrals to community resources for additional assistance. We will schedule a follow-up appointment to review the test results and discuss further management options.\n",
      "\n",
      "\n"
     ]
    }
   ],
   "source": [
    "input_text = \"\"\"\n",
    "CLINICAL TEXT:\n",
    "\n",
    "Patient Name: John Doe\n",
    "Date of Visit: March 1, 2023\n",
    "Chief Complaint: Memory problems\n",
    "History of Present Illness:\n",
    "John Doe is a 65-year-old male who presents to the memory clinic with complaints of memory problems. He reports that he has been having difficulty remembering recent events, such as where he put his keys or what he had for breakfast. He also states that he has been having trouble concentrating and feels easily distracted.\n",
    "Past Medical History:\n",
    "John Doe has a history of hypertension, hyperlipidemia, and type 2 diabetes mellitus. He takes medications for these conditions, including lisinopril, atorvastatin, and metformin.\n",
    "Family History:\n",
    "John Doe's father had Alzheimer's disease.\n",
    "Social History:\n",
    "John Doe is retired and lives with his wife. He does not smoke or drink alcohol.\n",
    "Physical Examination:\n",
    "Vital signs are within normal limits. The patient appears alert and oriented to person, place, and time. The neurological examination is unremarkable.\n",
    "Assessment and Plan:\n",
    "Based on the patient's complaints and family history, we suspect that John Doe may have mild cognitive impairment or early-stage Alzheimer's disease. We plan to order further testing, including cognitive testing and brain imaging, to help confirm the diagnosis. We will also provide John Doe with education about the disease process, support for him and his family, and referrals to community resources for additional assistance. We will schedule a follow-up appointment to review the test results and discuss further management options.\n",
    "\n",
    "QUESTIONS:\n",
    "\n",
    "Given the clinical text, generate five follow-up questions to ask the patient to learn more about how their symptoms have changed.\n",
    "\"\"\"\n",
    "generated_text = generator(input_text, max_length=20000, num_return_sequences=5, do_sample=True)\n",
    "print(generated_text[0]['generated_text'])"
   ]
  }
 ],
 "metadata": {
  "kernelspec": {
   "display_name": "neuroKG",
   "language": "python",
   "name": "python3"
  },
  "language_info": {
   "codemirror_mode": {
    "name": "ipython",
    "version": 3
   },
   "file_extension": ".py",
   "mimetype": "text/x-python",
   "name": "python",
   "nbconvert_exporter": "python",
   "pygments_lexer": "ipython3",
   "version": "3.10.9"
  },
  "orig_nbformat": 4,
  "vscode": {
   "interpreter": {
    "hash": "83533df3c7ef9bc16937d57d265360ebf731c985f77c1d2f73cdf68b21c1c5eb"
   }
  }
 },
 "nbformat": 4,
 "nbformat_minor": 2
}
